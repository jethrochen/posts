{
  "nbformat": 4,
  "nbformat_minor": 0,
  "metadata": {
    "colab": {
      "name": "python_learning.ipynb",
      "version": "0.3.2",
      "provenance": [],
      "collapsed_sections": []
    }
  },
  "cells": [
    {
      "cell_type": "markdown",
      "metadata": {
        "id": "view-in-github",
        "colab_type": "text"
      },
      "source": [
        "[View in Colaboratory](https://colab.research.google.com/github/jethrochen/posts/blob/master/python_learning.ipynb)"
      ]
    },
    {
      "metadata": {
        "id": "0bSGHGKMzzpc",
        "colab_type": "text"
      },
      "cell_type": "markdown",
      "source": [
        "### immutable 与 hashable\n",
        "两者都用来描述对象属性，详细如下：  \n",
        "\n",
        "**immutable**对象一经创建不可修改。比如整型（integer）、字符串（string）和元组（tuple）都是immutable，而列表（list）、字典（dictionary）、集合（set）都是mutable。这种不可修改体现在：\n",
        "1. 字符串不能原位（in-place）修改，而list可以\n",
        "2. tuple没有方法，而list有很多\n",
        "\n",
        "\n"
      ]
    },
    {
      "metadata": {
        "id": "nlqkArs006pP",
        "colab_type": "code",
        "colab": {
          "base_uri": "https://localhost:8080/",
          "height": 191
        },
        "outputId": "0872a0ae-b3f0-428c-bb6d-99ba52fe69e9"
      },
      "cell_type": "code",
      "source": [
        "string = \"hello\"\n",
        "string[1] = 'm'"
      ],
      "execution_count": 0,
      "outputs": [
        {
          "output_type": "error",
          "ename": "TypeError",
          "evalue": "ignored",
          "traceback": [
            "\u001b[0;31m\u001b[0m",
            "\u001b[0;31mTypeError\u001b[0mTraceback (most recent call last)",
            "\u001b[0;32m<ipython-input-3-585f27a73183>\u001b[0m in \u001b[0;36m<module>\u001b[0;34m()\u001b[0m\n\u001b[1;32m      1\u001b[0m \u001b[0mstring\u001b[0m \u001b[0;34m=\u001b[0m \u001b[0;34m\"hello\"\u001b[0m\u001b[0;34m\u001b[0m\u001b[0m\n\u001b[0;32m----> 2\u001b[0;31m \u001b[0mstring\u001b[0m\u001b[0;34m[\u001b[0m\u001b[0;36m1\u001b[0m\u001b[0;34m]\u001b[0m \u001b[0;34m=\u001b[0m \u001b[0;34m'm'\u001b[0m\u001b[0;34m\u001b[0m\u001b[0m\n\u001b[0m",
            "\u001b[0;31mTypeError\u001b[0m: 'str' object does not support item assignment"
          ]
        }
      ]
    },
    {
      "metadata": {
        "id": "AsGjveUH2j-b",
        "colab_type": "code",
        "colab": {
          "base_uri": "https://localhost:8080/",
          "height": 35
        },
        "outputId": "7f199df7-80d7-4321-ce65-70b071425b01"
      },
      "cell_type": "code",
      "source": [
        "test_list = ['a', 'b']\n",
        "test_list[1] = 'c'\n",
        "test_list"
      ],
      "execution_count": 0,
      "outputs": [
        {
          "output_type": "execute_result",
          "data": {
            "text/plain": [
              "['a', 'c']"
            ]
          },
          "metadata": {
            "tags": []
          },
          "execution_count": 4
        }
      ]
    },
    {
      "metadata": {
        "id": "CW3X_z3n23LT",
        "colab_type": "text"
      },
      "cell_type": "markdown",
      "source": [
        "于是，immutable的对象可以作为一个固定不变的对象，适合作为哈希表的索引，因而它们是**hashable**的。\n",
        "\n",
        "哈希表是在一个关键字和一个较大的数据之间建立映射的表，能使对一个数据序列的访问过程更加迅速有效，用作查询的关键字必须唯一且固定不变，于是只有immutable的对象才可以作为关键字。\n",
        "\n",
        "\n"
      ]
    }
  ]
}